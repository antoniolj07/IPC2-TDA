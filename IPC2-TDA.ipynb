{
  "nbformat": 4,
  "nbformat_minor": 0,
  "metadata": {
    "colab": {
      "name": "TDA.ipynb",
      "provenance": [],
      "authorship_tag": "ABX9TyNO31+/6fl6SGhTSYFurbvc",
      "include_colab_link": true
    },
    "kernelspec": {
      "name": "python3",
      "display_name": "Python 3"
    }
  },
  "cells": [
    {
      "cell_type": "markdown",
      "metadata": {
        "id": "view-in-github",
        "colab_type": "text"
      },
      "source": [
        "<a href=\"https://colab.research.google.com/github/antoniolj07/IPC2-TDA/blob/master/IPC2-TDA.ipynb\" target=\"_parent\"><img src=\"https://colab.research.google.com/assets/colab-badge.svg\" alt=\"Open In Colab\"/></a>"
      ]
    },
    {
      "cell_type": "markdown",
      "metadata": {
        "id": "IDLx37Rec0II"
      },
      "source": [
        "**Eejercicios de Listas Enlazadas**\r\n",
        "\r\n",
        "**Ejemplo**\r\n",
        "\r\n",
        "#Prueba"
      ]
    },
    {
      "cell_type": "code",
      "metadata": {
        "colab": {
          "base_uri": "https://localhost:8080/"
        },
        "id": "06LNtInhfypw",
        "outputId": "7b6eb19e-90f9-4ed6-afc4-ab2b49070352"
      },
      "source": [
        "class cliente:\r\n",
        "    def __init__(self, nombre, no_habitacion):\r\n",
        "      self.nombre = nombre\r\n",
        "      self.no_habitacion = no_habitacion\r\n",
        "      print('constructor')\r\n"
      ],
      "execution_count": null,
      "outputs": [
        {
          "output_type": "stream",
          "text": [
            "constructor\n"
          ],
          "name": "stdout"
        }
      ]
    },
    {
      "cell_type": "code",
      "metadata": {
        "id": "Ti5PU21yhTqb"
      },
      "source": [
        "class node:\r\n",
        "  def _init_(self, cliente=None, next=None):\r\n",
        "    self.cliente=cliente\r\n",
        "    self.next=next"
      ],
      "execution_count": null,
      "outputs": []
    },
    {
      "cell_type": "code",
      "metadata": {
        "id": "ZGVKQXxTrC78"
      },
      "source": [
        "class linked_list:\r\n",
        "  def _init_(self):\r\n",
        "    self.head=None\r\n",
        "  def insertar(self, cliente):\r\n",
        "    if not self.head:\r\n",
        "      self.head = node(cliente=cliente)\r\n",
        "      return\r\n",
        "    current=self.head\r\n",
        "    while current.next:\r\n",
        "      current=current.next\r\n",
        "    current.next=node(cliente=cliente)\r\n",
        "  \r\n",
        "  def imprimir(self):\r\n",
        "    node=self.head\r\n",
        "    while node != None: \r\n",
        "      print(node.cliente.nombre, end=\"=>\")\r\n",
        "      node=node.next\r\n",
        "  \r\n",
        "  def eliminar(self, no_habitacion):\r\n",
        "    current=self.head\r\n",
        "    previous= None\r\n",
        "\r\n",
        "    while current and current.cliente.no_habitacion != no_habitacion:\r\n",
        "      previous = current\r\n",
        "      current= current.next\r\n",
        "    if previous is None:\r\n",
        "      self.head = current.next\r\n",
        "    elif current:\r\n",
        "      previous.next=current.next\r\n",
        "      current.next=None"
      ],
      "execution_count": null,
      "outputs": []
    },
    {
      "cell_type": "code",
      "metadata": {
        "id": "jzFeC1eEekhv"
      },
      "source": [
        "c1 = cliente(\"Estuardo Zapeta\", 101)\r\n",
        "c2 = cliente(\"Marco Lopez\", 103)\r\n",
        "c3 = cliente(\"Jose Armas\", 204)\r\n",
        "c4 = cliente(\"Gladys Olmos\", 302)"
      ],
      "execution_count": null,
      "outputs": []
    },
    {
      "cell_type": "code",
      "metadata": {
        "id": "1e5QqClMo43M"
      },
      "source": [
        "lista = linked_list()\r\n",
        "lista.instertar(c1)\r\n",
        "lista.instertar(c2)\r\n",
        "lista.instertar(c3)\r\n",
        "lista.instertar(c4)"
      ],
      "execution_count": null,
      "outputs": []
    },
    {
      "cell_type": "code",
      "metadata": {
        "id": "IKOGU3RbpOas"
      },
      "source": [
        "lista.imprimir()"
      ],
      "execution_count": null,
      "outputs": []
    },
    {
      "cell_type": "code",
      "metadata": {
        "id": "NSdK2e_gpT98"
      },
      "source": [
        "lista.eliminar(101)"
      ],
      "execution_count": null,
      "outputs": []
    },
    {
      "cell_type": "code",
      "metadata": {
        "id": "fioweqTRpXBA"
      },
      "source": [
        "lista.imprimir()"
      ],
      "execution_count": null,
      "outputs": []
    },
    {
      "cell_type": "code",
      "metadata": {
        "id": "79xbOfNbpb56"
      },
      "source": [
        "class linked_list_circular():\r\n",
        "  def __init__(self, head):\r\n",
        "    self.head = head\r\n",
        "    self.size = 0\r\n",
        "  \r\n",
        "  def insertar(self, cliente):\r\n",
        "    if self.size == 0:\r\n",
        "      self.head = node(cliente=cliente)\r\n",
        "      self.head.next = self.head\r\n",
        "    else:\r\n",
        "      new_node = node(cliente=cliente, next=self.head.next)\r\n",
        "      self.head.next = new_node\r\n",
        "    self.size += 1\r\n",
        "\r\n",
        "  def imprimir(self):\r\n",
        "    if self.head is None:\r\n",
        "      return\r\n",
        "    node = self.head\r\n",
        "    print(node.cliente.nombre, end = \" => \")\r\n",
        "    while node.next != self.head:\r\n",
        "      node = node.next\r\n",
        "      print(node.cliente.nombre, end = \" => \")\r\n",
        "\r\n",
        "\r\n",
        "  def eliminar(self, no_habitacion):\r\n",
        "    node = self.head\r\n",
        "    previous = None\r\n",
        "\r\n",
        "    while True:\r\n",
        "      if node.cliente.no_habitacion == no_habitacion:\r\n",
        "        if previous is not None:\r\n",
        "          previous.next = node.next\r\n",
        "        else:\r\n",
        "          while node.next != self.head:\r\n",
        "            node = node.next\r\n",
        "          node.next = self.head.next\r\n",
        "          self.head = self.head.next\r\n",
        "        self.size -= 1\r\n",
        "        return True\r\n",
        "      elif node.next == self.head:\r\n",
        "        return False\r\n",
        "\r\n",
        "        previous = node\r\n",
        "        node = node.next \r\n",
        "    "
      ],
      "execution_count": null,
      "outputs": []
    },
    {
      "cell_type": "code",
      "metadata": {
        "id": "cfMA2bacd-g0"
      },
      "source": [
        "lista_c = linked_list_circular()\r\n",
        "lista_c.insertar(c1)\r\n",
        "lista_c.insertar(c2)\r\n",
        "lista_c.insertar(c3)\r\n",
        "lista_c.insertar(c4)"
      ],
      "execution_count": null,
      "outputs": []
    },
    {
      "cell_type": "code",
      "metadata": {
        "id": "fg01ee85ee9I"
      },
      "source": [
        "lista_c.imprimir()"
      ],
      "execution_count": null,
      "outputs": []
    },
    {
      "cell_type": "code",
      "metadata": {
        "id": "UhlaDhAAfPiB"
      },
      "source": [
        "lista_c.eliminar(103)"
      ],
      "execution_count": null,
      "outputs": []
    },
    {
      "cell_type": "code",
      "metadata": {
        "id": "JDeQa4iGj0tc"
      },
      "source": [
        "lista_c.imprimir()"
      ],
      "execution_count": null,
      "outputs": []
    },
    {
      "cell_type": "markdown",
      "metadata": {
        "id": "hz0waD_dippj"
      },
      "source": [
        "### **Listas Doblemente Enlazadas**\r\n"
      ]
    },
    {
      "cell_type": "code",
      "metadata": {
        "id": "Qc2fA5F0jHfC"
      },
      "source": [
        "class node_de:\r\n",
        "  def __init__(self, cliente=None, next=None, previois=None):\r\n",
        "    self.cliente = cliente\r\n",
        "    self.next = next\r\n",
        "    self.previous = previous"
      ],
      "execution_count": null,
      "outputs": []
    }
  ]
}